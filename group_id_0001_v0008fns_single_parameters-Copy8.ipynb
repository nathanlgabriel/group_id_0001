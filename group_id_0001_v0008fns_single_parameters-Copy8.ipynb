{
 "cells": [
  {
   "cell_type": "code",
   "execution_count": 1,
   "id": "750c2785",
   "metadata": {},
   "outputs": [],
   "source": [
    "import numpy as np\n",
    "import numba\n",
    "import time\n",
    "import concurrent.futures\n",
    "from numpy.random import Generator, PCG64DXSM, SeedSequence\n",
    "from math import floor, ceil\n",
    "from sys import float_info\n",
    "np.set_printoptions(suppress=True)\n",
    "np.set_printoptions(threshold=np.inf)\n",
    "from FNs_groupID_0001_v0008 import gid0001_nsteps, population_array, id_sigs_fn, connections_init"
   ]
  },
  {
   "cell_type": "code",
   "execution_count": 2,
   "id": "2cf4848a",
   "metadata": {},
   "outputs": [],
   "source": [
    "runs = 10 #change this value to 100 if you want to confirm that the code is faster with 10 threads than 20, but it wil take 10 times longer to run\n",
    "runlength = 10**5\n",
    "\n",
    "sg = SeedSequence()\n",
    "rgs = numba.typed.List([Generator(PCG64DXSM(s)) for s in sg.spawn(runs)])\n",
    "\n",
    "thrds = 10 #number of threads that will be used\n",
    "\n",
    "population_size = 10**3\n",
    "levels_of_id = 4\n",
    "branches_per_lvl = np.array([1, 2, 3, 2])\n",
    "num_signals = np.prod(branches_per_lvl) #setting the number of signals equal to the number of unique identities\n",
    "inertia = 100 #how many balls of each type are initially in the urns\n",
    "rein_per_lvl = np.array([1, 2, 3, 4]) #payoff value for coordinating on each level, need array for numba to be happy\n",
    "base_connection_weights = np.array([1, 2, 3, 4]) #base values for function determining likelihood of agent interacting with another of the same type\n",
    "homophily_factor = 1\n",
    "# percent_agents_per_lvl = [[1], [.1, .9], [[.3, .3, .4], [.9, .05, .05]], [[[.5, .5], [.5, .5], [.5, .5]], [[.5, .5], [.5, .5], [.5, .5]]]]\n",
    "percent_agents_per_lvl = [[1], [.1, .9], [.3, .3, .4, .9, .05, .05], [.5, .5, .5, .5, .5, .5, .5, .5, .5, .5, .5, .5]]\n",
    "epsilon = float_info.epsilon #add this value to random uniform distribution to get (0, 1] instead of [0, 1)\n"
   ]
  },
  {
   "cell_type": "code",
   "execution_count": 3,
   "id": "82b392cf",
   "metadata": {},
   "outputs": [
    {
     "name": "stdout",
     "output_type": "stream",
     "text": [
      "[[1000], [100, 900], [30, 30, 40, 810, 45, 45], [15, 15, 15, 15, 20, 20, 405, 405, 23, 22, 23, 22]]\n",
      "[[  0.  15.   0.   0.]\n",
      " [  0.  15.   0.   0.]\n",
      " [  0.  15.   0.   0.]\n",
      " [  0.  15.   0.   0.]\n",
      " [  0.  20.   0.   0.]\n",
      " [  0.  20.   0.   0.]\n",
      " [  0.   0. 405.   0.]\n",
      " [  0.   0. 405.   0.]\n",
      " [  0.  23.   0.   0.]\n",
      " [  0.  22.   0.   0.]\n",
      " [  0.  23.   0.   0.]\n",
      " [  0.  22.   0.   0.]]\n",
      "Finished in 7.35 minutes\n"
     ]
    }
   ],
   "source": [
    "start = time.perf_counter()\n",
    "# initializing some arrays that are fixed for all simulations\n",
    "parent_size, popid = population_array(population_size, levels_of_id, branches_per_lvl, percent_agents_per_lvl)\n",
    "print(parent_size)\n",
    "idsigs = id_sigs_fn(popid, population_size, levels_of_id, branches_per_lvl)\n",
    "conweights = connections_init(population_size, popid, base_connection_weights, homophily_factor)\n",
    "# okay well this isn't fixed but its the same initial values for all simulations\n",
    "agsigweights = inertia*np.ones([population_size, levels_of_id])\n",
    "\n",
    "final_mp = np.zeros((runs, popid[-1][-1]+1, levels_of_id), dtype=np.int64)\n",
    "\n",
    "inputs = []\n",
    "\n",
    "with concurrent.futures.ProcessPoolExecutor(max_workers=thrds) as executor:\n",
    "    future_to_gid_0001 = {executor.submit(gid0001_nsteps, idsigs, rein_per_lvl, conweights, agsigweights, popid, levels_of_id, population_size, epsilon, rgs[r], runlength, r): inputs for r in range(runs)}\n",
    "    for future in concurrent.futures.as_completed(future_to_gid_0001):\n",
    "        inputs = future_to_gid_0001[future]\n",
    "        try:\n",
    "            data0, data1 = future.result()\n",
    "        except Exception as exc:\n",
    "            print(f'generated an exception: y? and {exc}')\n",
    "        else:\n",
    "            final_mp[data1] = data0\n",
    "            \n",
    "final_mp = np.asarray(final_mp)\n",
    "final_avg = np.mean(final_mp, axis=0)\n",
    "print(final_avg)\n",
    "\n",
    "finish = time.perf_counter()\n",
    "print(f'Finished in {round(finish-start,0)/60} minutes')"
   ]
  },
  {
   "cell_type": "code",
   "execution_count": null,
   "id": "a4d35314",
   "metadata": {},
   "outputs": [],
   "source": []
  }
 ],
 "metadata": {
  "kernelspec": {
   "display_name": "Python 3 (ipykernel)",
   "language": "python",
   "name": "python3"
  },
  "language_info": {
   "codemirror_mode": {
    "name": "ipython",
    "version": 3
   },
   "file_extension": ".py",
   "mimetype": "text/x-python",
   "name": "python",
   "nbconvert_exporter": "python",
   "pygments_lexer": "ipython3",
   "version": "3.11.5"
  }
 },
 "nbformat": 4,
 "nbformat_minor": 5
}
